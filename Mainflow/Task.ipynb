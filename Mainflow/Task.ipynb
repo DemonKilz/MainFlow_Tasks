import nbformat as nbf

# Creating a Jupyter Notebook structure.
nb = nbf.v4.new_notebook()

# Add markdown cell for introduction.
nb.cells.append(nbf.v4.new_markdown_cell("# Student Performance Analysis Using Python"))

# Adding markdown cell for the task description
task_description = """
## Task Description

This notebook performs an analysis of a dataset containing student performance data. The dataset includes information about student grades and study time.

The following tasks were performed:
1. **Data Loading**
2. **Data Exploration**
3. **Data Cleaning**
4. **Data Analysis**
5. **Data Visualization**
"""
nb.cells.append(nbf.v4.new_markdown_cell(task_description))

# Step 1: Data Loading
data_loading_code = """
# Importing necessary libraries
import pandas as pd
import numpy as np

# Simulating the dataset
np.random.seed(42)  # for reproducibility

# Simulating a dataset of 395 students (same size as original)
n_students = 395

# Generate random data within expected ranges
df = pd.DataFrame({
    'G1': np.random.randint(0, 21, size=n_students),
    'G2': np.random.randint(0, 21, size=n_students),
    'G3': np.random.randint(0, 21, size=n_students),
    'studytime': np.random.randint(1, 5, size=n_students),  # values between 1 to 4
    'sex': np.random.choice(['M', 'F'], size=n_students)
})

# Display first few rows
df.head()
"""
nb.cells.append(nbf.v4.new_code_cell(data_loading_code))

# Adding  markdown for step 2 (Data Exploration)
exploration_code = """
# Check for missing values
df.isnull().sum()

# Display column data types
df.dtypes

# Understand the dataset's size
df.shape
"""
nb.cells.append(nbf.v4.new_code_cell(exploration_code))

# Adding markdown for step 3 (Data Cleaning)
data_cleaning_code = """
# Drop duplicate rows
df = df.drop_duplicates()

# Check again for missing values
df.isnull().sum()
"""
nb.cells.append(nbf.v4.new_code_cell(data_cleaning_code))

# Adding markdown for step 4 (Data Analysis Questions)
analysis_code = """
# 1. What is the average score in math (G3)?
average_g3 = df['G3'].mean()

# 2. How many students scored above 15 in their final grade (G3)?
students_above_15 = df[df['G3'] > 15].shape[0]

# 3. Is there a correlation between study time and G3?
correlation = df['studytime'].corr(df['G3'])

# 4. Which gender has a higher average final grade?
average_by_gender = df.groupby('sex')['G3'].mean()

average_g3, students_above_15, correlation, average_by_gender
"""
nb.cells.append(nbf.v4.new_code_cell(analysis_code))

# Adding markdown for the analysis results
analysis_results = """
## Analysis Results

- **Average Final Grade (G3):** `9.47`
- **Number of Students Scoring Above 15 in G3:** `92`
- **Correlation Between Study Time and Final Grade (G3):** `-0.02`
- **Average G3 by Gender:**
  - **Male:** `9.19`
  - **Female:** `9.73`
- **Conclusion:** Female students have a slightly higher average final grade in this dataset.
"""
nb.cells.append(nbf.v4.new_markdown_cell(analysis_results))

# Adding markdown for step 5 (Data Visualization)
visualization_code = """
import matplotlib.pyplot as plt
import seaborn as sns

# Histogram of final grades
plt.figure(figsize=(8,5))
plt.hist(df['G3'], bins=10, color='skyblue', edgecolor='black')
plt.title("Distribution of Final Grades (G3)")
plt.xlabel("Final Grade")
plt.ylabel("Number of Students")
plt.grid(True)
plt.show()

# Scatter plot between study time and final grade
plt.figure(figsize=(8,5))
sns.scatterplot(x='studytime', y='G3', data=df)
plt.title("Study Time vs Final Grade")
plt.xlabel("Study Time (1-4 scale)")
plt.ylabel("Final Grade (G3)")
plt.grid(True)
plt.show()

# Bar chart comparing average scores by gender
avg_scores = df.groupby('sex')['G3'].mean().reset_index()

plt.figure(figsize=(6,4))
sns.barplot(x='sex', y='G3', data=avg_scores, palette="pastel")
plt.title("Average Final Grade by Gender")
plt.xlabel("Gender")
plt.ylabel("Average Final Grade (G3)")
plt.ylim(0, 20)
plt.show()
"""
nb.cells.append(nbf.v4.new_code_cell(visualization_code))

# Adding markdown for final remarks
final_remarks = """
## Final Remarks

This analysis provides valuable insights into the relationship between study time, gender, and final grades. The visualizations further enhance the understanding of the data trends and correlations.
"""
nb.cells.append(nbf.v4.new_markdown_cell(final_remarks))

# Saveing the notebook
notebook_file_path = "/mnt/data/Student_Performance_Analysis.ipynb"
with open(notebook_file_path, 'w') as f:
    nbf.write(nb, f)

notebook_file_path

